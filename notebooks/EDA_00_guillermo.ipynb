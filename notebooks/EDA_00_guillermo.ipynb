{
 "cells": [
  {
   "cell_type": "markdown",
   "metadata": {},
   "source": [
    "# EDA de correlación de datos y modelo de regresión lineál"
   ]
  },
  {
   "cell_type": "code",
   "execution_count": 2,
   "metadata": {},
   "outputs": [],
   "source": [
    "# Manejo de archivos\n",
    "import os\n",
    "from pathlib import Path\n",
    "\n",
    "# Manejo de datos\n",
    "import pandas as pd\n",
    "import numpy as np\n",
    "\n",
    "# Visualización de datos\n",
    "import matplotlib.pyplot as plt\n",
    "import seaborn as sns"
   ]
  },
  {
   "cell_type": "markdown",
   "metadata": {},
   "source": [
    "## Cargar datos"
   ]
  },
  {
   "cell_type": "code",
   "execution_count": 5,
   "metadata": {},
   "outputs": [
    {
     "name": "stdout",
     "output_type": "stream",
     "text": [
      "Current path: /home/Cookiecutter-MLOps/notebooks\n"
     ]
    }
   ],
   "source": [
    "print(f\"Current path: {os.getcwd()}\")"
   ]
  },
  {
   "cell_type": "code",
   "execution_count": 7,
   "metadata": {},
   "outputs": [
    {
     "name": "stdout",
     "output_type": "stream",
     "text": [
      "[PosixPath('../data/raw/datos_molienda.parquet')]\n"
     ]
    }
   ],
   "source": [
    "# Definir la ruta de los datos\n",
    "data_path: Path = Path(r\"../data/raw\")\n",
    "if not data_path.exists():\n",
    "    print(f\"Path {data_path} does not exits.\")\n",
    "\n",
    "# Imprimir archivos en la carpeta de datos\n",
    "print(list(data_path.glob(\"*\")))"
   ]
  },
  {
   "cell_type": "code",
   "execution_count": 8,
   "metadata": {},
   "outputs": [],
   "source": [
    "df = pd.read_parquet(data_path / \"datos_molienda.parquet\")"
   ]
  },
  {
   "cell_type": "code",
   "execution_count": 10,
   "metadata": {},
   "outputs": [
    {
     "data": {
      "text/html": [
       "<div>\n",
       "<style scoped>\n",
       "    .dataframe tbody tr th:only-of-type {\n",
       "        vertical-align: middle;\n",
       "    }\n",
       "\n",
       "    .dataframe tbody tr th {\n",
       "        vertical-align: top;\n",
       "    }\n",
       "\n",
       "    .dataframe thead th {\n",
       "        text-align: right;\n",
       "    }\n",
       "</style>\n",
       "<table border=\"1\" class=\"dataframe\">\n",
       "  <thead>\n",
       "    <tr style=\"text-align: right;\">\n",
       "      <th></th>\n",
       "      <th>velocidad</th>\n",
       "      <th>potencia</th>\n",
       "      <th>celda_carga</th>\n",
       "      <th>pad_1</th>\n",
       "      <th>pad_2</th>\n",
       "      <th>pad_3</th>\n",
       "      <th>pad_4</th>\n",
       "      <th>pad_5</th>\n",
       "      <th>pad_6</th>\n",
       "      <th>pad_7</th>\n",
       "      <th>...</th>\n",
       "      <th>in1_5</th>\n",
       "      <th>in1</th>\n",
       "      <th>f80</th>\n",
       "      <th>dureza</th>\n",
       "      <th>per_solidos</th>\n",
       "      <th>wi</th>\n",
       "      <th>spi</th>\n",
       "      <th>imp_criticos</th>\n",
       "      <th>imp_estandares</th>\n",
       "      <th>jb</th>\n",
       "    </tr>\n",
       "    <tr>\n",
       "      <th>date</th>\n",
       "      <th></th>\n",
       "      <th></th>\n",
       "      <th></th>\n",
       "      <th></th>\n",
       "      <th></th>\n",
       "      <th></th>\n",
       "      <th></th>\n",
       "      <th></th>\n",
       "      <th></th>\n",
       "      <th></th>\n",
       "      <th></th>\n",
       "      <th></th>\n",
       "      <th></th>\n",
       "      <th></th>\n",
       "      <th></th>\n",
       "      <th></th>\n",
       "      <th></th>\n",
       "      <th></th>\n",
       "      <th></th>\n",
       "      <th></th>\n",
       "      <th></th>\n",
       "    </tr>\n",
       "  </thead>\n",
       "  <tbody>\n",
       "    <tr>\n",
       "      <th>2022-11-15 00:00:00</th>\n",
       "      <td>0.000000</td>\n",
       "      <td>-0.482877</td>\n",
       "      <td>-0.074890</td>\n",
       "      <td>0.816327</td>\n",
       "      <td>-0.794444</td>\n",
       "      <td>-0.545455</td>\n",
       "      <td>0.424731</td>\n",
       "      <td>0.175926</td>\n",
       "      <td>0.515464</td>\n",
       "      <td>0.688525</td>\n",
       "      <td>...</td>\n",
       "      <td>0.465352</td>\n",
       "      <td>0.724886</td>\n",
       "      <td>-0.114582</td>\n",
       "      <td>1.107937</td>\n",
       "      <td>-0.153193</td>\n",
       "      <td>0.246579</td>\n",
       "      <td>0.518816</td>\n",
       "      <td>0.5</td>\n",
       "      <td>0.259414</td>\n",
       "      <td>-1.544362</td>\n",
       "    </tr>\n",
       "    <tr>\n",
       "      <th>2022-11-15 00:00:10</th>\n",
       "      <td>0.000000</td>\n",
       "      <td>-0.498288</td>\n",
       "      <td>-0.050831</td>\n",
       "      <td>0.816327</td>\n",
       "      <td>-0.538889</td>\n",
       "      <td>0.831169</td>\n",
       "      <td>0.586022</td>\n",
       "      <td>0.175926</td>\n",
       "      <td>-0.072165</td>\n",
       "      <td>-0.131148</td>\n",
       "      <td>...</td>\n",
       "      <td>0.587188</td>\n",
       "      <td>0.784246</td>\n",
       "      <td>-0.114582</td>\n",
       "      <td>1.107937</td>\n",
       "      <td>-0.227922</td>\n",
       "      <td>0.246579</td>\n",
       "      <td>0.518816</td>\n",
       "      <td>0.5</td>\n",
       "      <td>0.259414</td>\n",
       "      <td>-1.544638</td>\n",
       "    </tr>\n",
       "    <tr>\n",
       "      <th>2022-11-15 00:00:20</th>\n",
       "      <td>0.000000</td>\n",
       "      <td>-0.839041</td>\n",
       "      <td>-0.027548</td>\n",
       "      <td>0.843537</td>\n",
       "      <td>-0.538889</td>\n",
       "      <td>0.831169</td>\n",
       "      <td>0.586022</td>\n",
       "      <td>0.888889</td>\n",
       "      <td>0.814433</td>\n",
       "      <td>-0.131148</td>\n",
       "      <td>...</td>\n",
       "      <td>0.587188</td>\n",
       "      <td>0.784246</td>\n",
       "      <td>-0.114582</td>\n",
       "      <td>1.107937</td>\n",
       "      <td>-0.297216</td>\n",
       "      <td>0.246579</td>\n",
       "      <td>0.518816</td>\n",
       "      <td>0.5</td>\n",
       "      <td>0.259414</td>\n",
       "      <td>-1.544928</td>\n",
       "    </tr>\n",
       "    <tr>\n",
       "      <th>2022-11-15 00:00:30</th>\n",
       "      <td>0.000000</td>\n",
       "      <td>-0.386986</td>\n",
       "      <td>-0.027548</td>\n",
       "      <td>0.455782</td>\n",
       "      <td>-0.255556</td>\n",
       "      <td>0.077922</td>\n",
       "      <td>0.091398</td>\n",
       "      <td>0.500000</td>\n",
       "      <td>0.814433</td>\n",
       "      <td>-0.172131</td>\n",
       "      <td>...</td>\n",
       "      <td>0.587188</td>\n",
       "      <td>0.784246</td>\n",
       "      <td>-0.303652</td>\n",
       "      <td>1.107937</td>\n",
       "      <td>-0.299254</td>\n",
       "      <td>0.246579</td>\n",
       "      <td>0.518816</td>\n",
       "      <td>0.5</td>\n",
       "      <td>0.259414</td>\n",
       "      <td>-1.545215</td>\n",
       "    </tr>\n",
       "    <tr>\n",
       "      <th>2022-11-15 00:00:40</th>\n",
       "      <td>-0.166669</td>\n",
       "      <td>-0.535959</td>\n",
       "      <td>-0.008146</td>\n",
       "      <td>0.455782</td>\n",
       "      <td>0.133333</td>\n",
       "      <td>0.103896</td>\n",
       "      <td>0.000000</td>\n",
       "      <td>0.500000</td>\n",
       "      <td>0.257732</td>\n",
       "      <td>0.008197</td>\n",
       "      <td>...</td>\n",
       "      <td>0.374744</td>\n",
       "      <td>0.478899</td>\n",
       "      <td>-0.313486</td>\n",
       "      <td>1.107937</td>\n",
       "      <td>-0.299254</td>\n",
       "      <td>0.246579</td>\n",
       "      <td>0.518816</td>\n",
       "      <td>0.5</td>\n",
       "      <td>0.259414</td>\n",
       "      <td>-1.545534</td>\n",
       "    </tr>\n",
       "  </tbody>\n",
       "</table>\n",
       "<p>5 rows × 35 columns</p>\n",
       "</div>"
      ],
      "text/plain": [
       "                     velocidad  potencia  celda_carga     pad_1     pad_2  \\\n",
       "date                                                                        \n",
       "2022-11-15 00:00:00   0.000000 -0.482877    -0.074890  0.816327 -0.794444   \n",
       "2022-11-15 00:00:10   0.000000 -0.498288    -0.050831  0.816327 -0.538889   \n",
       "2022-11-15 00:00:20   0.000000 -0.839041    -0.027548  0.843537 -0.538889   \n",
       "2022-11-15 00:00:30   0.000000 -0.386986    -0.027548  0.455782 -0.255556   \n",
       "2022-11-15 00:00:40  -0.166669 -0.535959    -0.008146  0.455782  0.133333   \n",
       "\n",
       "                        pad_3     pad_4     pad_5     pad_6     pad_7  ...  \\\n",
       "date                                                                   ...   \n",
       "2022-11-15 00:00:00 -0.545455  0.424731  0.175926  0.515464  0.688525  ...   \n",
       "2022-11-15 00:00:10  0.831169  0.586022  0.175926 -0.072165 -0.131148  ...   \n",
       "2022-11-15 00:00:20  0.831169  0.586022  0.888889  0.814433 -0.131148  ...   \n",
       "2022-11-15 00:00:30  0.077922  0.091398  0.500000  0.814433 -0.172131  ...   \n",
       "2022-11-15 00:00:40  0.103896  0.000000  0.500000  0.257732  0.008197  ...   \n",
       "\n",
       "                        in1_5       in1       f80    dureza  per_solidos  \\\n",
       "date                                                                       \n",
       "2022-11-15 00:00:00  0.465352  0.724886 -0.114582  1.107937    -0.153193   \n",
       "2022-11-15 00:00:10  0.587188  0.784246 -0.114582  1.107937    -0.227922   \n",
       "2022-11-15 00:00:20  0.587188  0.784246 -0.114582  1.107937    -0.297216   \n",
       "2022-11-15 00:00:30  0.587188  0.784246 -0.303652  1.107937    -0.299254   \n",
       "2022-11-15 00:00:40  0.374744  0.478899 -0.313486  1.107937    -0.299254   \n",
       "\n",
       "                           wi       spi  imp_criticos  imp_estandares  \\\n",
       "date                                                                    \n",
       "2022-11-15 00:00:00  0.246579  0.518816           0.5        0.259414   \n",
       "2022-11-15 00:00:10  0.246579  0.518816           0.5        0.259414   \n",
       "2022-11-15 00:00:20  0.246579  0.518816           0.5        0.259414   \n",
       "2022-11-15 00:00:30  0.246579  0.518816           0.5        0.259414   \n",
       "2022-11-15 00:00:40  0.246579  0.518816           0.5        0.259414   \n",
       "\n",
       "                           jb  \n",
       "date                           \n",
       "2022-11-15 00:00:00 -1.544362  \n",
       "2022-11-15 00:00:10 -1.544638  \n",
       "2022-11-15 00:00:20 -1.544928  \n",
       "2022-11-15 00:00:30 -1.545215  \n",
       "2022-11-15 00:00:40 -1.545534  \n",
       "\n",
       "[5 rows x 35 columns]"
      ]
     },
     "execution_count": 10,
     "metadata": {},
     "output_type": "execute_result"
    }
   ],
   "source": [
    "df.head()"
   ]
  },
  {
   "cell_type": "code",
   "execution_count": 11,
   "metadata": {},
   "outputs": [
    {
     "data": {
      "text/plain": [
       "(39586, 35)"
      ]
     },
     "execution_count": 11,
     "metadata": {},
     "output_type": "execute_result"
    }
   ],
   "source": [
    "df.shape"
   ]
  },
  {
   "cell_type": "markdown",
   "metadata": {},
   "source": [
    "Tenemos 35 variables, la variable objetivo será la `presion`."
   ]
  },
  {
   "cell_type": "code",
   "execution_count": 12,
   "metadata": {},
   "outputs": [
    {
     "name": "stdout",
     "output_type": "stream",
     "text": [
      "<class 'pandas.core.frame.DataFrame'>\n",
      "DatetimeIndex: 39586 entries, 2022-11-15 00:00:00 to 2022-11-20 00:00:00\n",
      "Data columns (total 35 columns):\n",
      " #   Column          Non-Null Count  Dtype  \n",
      "---  ------          --------------  -----  \n",
      " 0   velocidad       39586 non-null  float64\n",
      " 1   potencia        39586 non-null  float64\n",
      " 2   celda_carga     39586 non-null  float64\n",
      " 3   pad_1           39586 non-null  float64\n",
      " 4   pad_2           39586 non-null  float64\n",
      " 5   pad_3           39586 non-null  float64\n",
      " 6   pad_4           39586 non-null  float64\n",
      " 7   pad_5           39586 non-null  float64\n",
      " 8   pad_6           39586 non-null  float64\n",
      " 9   pad_7           39586 non-null  float64\n",
      " 10  pad_8           39586 non-null  float64\n",
      " 11  rendimiento     39586 non-null  float64\n",
      " 12  flujo_agua      39586 non-null  float64\n",
      " 13  ruido           39586 non-null  float64\n",
      " 14  giro            39586 non-null  float64\n",
      " 15  p80             39586 non-null  float64\n",
      " 16  in14            39586 non-null  float64\n",
      " 17  in12            39586 non-null  float64\n",
      " 18  in10            39586 non-null  float64\n",
      " 19  in8             39586 non-null  float64\n",
      " 20  in6             39586 non-null  float64\n",
      " 21  in4             39586 non-null  float64\n",
      " 22  in3             39586 non-null  float64\n",
      " 23  in2_5           39586 non-null  float64\n",
      " 24  in2             39586 non-null  float64\n",
      " 25  in1_5           39586 non-null  float64\n",
      " 26  in1             39586 non-null  float64\n",
      " 27  f80             39586 non-null  float64\n",
      " 28  dureza          39586 non-null  float64\n",
      " 29  per_solidos     39586 non-null  float64\n",
      " 30  wi              39586 non-null  float64\n",
      " 31  spi             39586 non-null  float64\n",
      " 32  imp_criticos    39586 non-null  float64\n",
      " 33  imp_estandares  39586 non-null  float64\n",
      " 34  jb              39586 non-null  float64\n",
      "dtypes: float64(35)\n",
      "memory usage: 10.9 MB\n"
     ]
    }
   ],
   "source": [
    "df.info()"
   ]
  },
  {
   "cell_type": "markdown",
   "metadata": {},
   "source": [
    "Todos los campos son de tipo **float** y **no** tenemos datos faltantes."
   ]
  },
  {
   "cell_type": "code",
   "execution_count": null,
   "metadata": {},
   "outputs": [],
   "source": []
  }
 ],
 "metadata": {
  "kernelspec": {
   "display_name": "base",
   "language": "python",
   "name": "python3"
  },
  "language_info": {
   "codemirror_mode": {
    "name": "ipython",
    "version": 3
   },
   "file_extension": ".py",
   "mimetype": "text/x-python",
   "name": "python",
   "nbconvert_exporter": "python",
   "pygments_lexer": "ipython3",
   "version": "3.8.10"
  }
 },
 "nbformat": 4,
 "nbformat_minor": 2
}
