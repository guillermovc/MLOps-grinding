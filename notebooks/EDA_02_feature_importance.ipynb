{
 "cells": [
  {
   "cell_type": "markdown",
   "metadata": {},
   "source": [
    "# Feature importance using Random Forests"
   ]
  },
  {
   "cell_type": "code",
   "execution_count": 1,
   "metadata": {},
   "outputs": [],
   "source": [
    "# Manejo de archivos\n",
    "import os\n",
    "from pathlib import Path\n",
    "\n",
    "# Manejo de datos\n",
    "import pandas as pd\n",
    "import numpy as np\n",
    "\n",
    "# Visualización de datos\n",
    "import matplotlib.pyplot as plt\n",
    "import seaborn as sns"
   ]
  },
  {
   "cell_type": "code",
   "execution_count": 11,
   "metadata": {},
   "outputs": [],
   "source": [
    "plt.style.use('https://github.com/dhaitz/matplotlib-stylesheets/raw/master/pitayasmoothie-light.mplstyle')"
   ]
  },
  {
   "cell_type": "markdown",
   "metadata": {},
   "source": [
    "## Load data"
   ]
  },
  {
   "cell_type": "code",
   "execution_count": 6,
   "metadata": {},
   "outputs": [
    {
     "name": "stdout",
     "output_type": "stream",
     "text": [
      "Current path: /home/Cookiecutter-MLOps/notebooks\n",
      "[PosixPath('../data/raw/datos_molienda (copy).parquet'), PosixPath('../data/raw/datos_molienda.parquet'), PosixPath('../data/raw/df_model.parquet')]\n"
     ]
    }
   ],
   "source": [
    "print(f\"Current path: {os.getcwd()}\")\n",
    "\n",
    "# Definir la ruta de los datos\n",
    "data_path: Path = Path(r\"../data/raw\")\n",
    "if not data_path.exists():\n",
    "    print(f\"Path {data_path} does not exits.\")\n",
    "\n",
    "# Imprimir archivos en la carpeta de datos\n",
    "print(list(data_path.glob(\"*\")))"
   ]
  },
  {
   "cell_type": "code",
   "execution_count": 7,
   "metadata": {},
   "outputs": [],
   "source": [
    "df = pd.read_parquet(data_path / \"df_model.parquet\")"
   ]
  },
  {
   "cell_type": "code",
   "execution_count": 8,
   "metadata": {},
   "outputs": [
    {
     "data": {
      "text/plain": [
       "(221771, 28)"
      ]
     },
     "execution_count": 8,
     "metadata": {},
     "output_type": "execute_result"
    }
   ],
   "source": [
    "df.shape"
   ]
  },
  {
   "cell_type": "code",
   "execution_count": 9,
   "metadata": {},
   "outputs": [
    {
     "data": {
      "text/html": [
       "<div>\n",
       "<style scoped>\n",
       "    .dataframe tbody tr th:only-of-type {\n",
       "        vertical-align: middle;\n",
       "    }\n",
       "\n",
       "    .dataframe tbody tr th {\n",
       "        vertical-align: top;\n",
       "    }\n",
       "\n",
       "    .dataframe thead th {\n",
       "        text-align: right;\n",
       "    }\n",
       "</style>\n",
       "<table border=\"1\" class=\"dataframe\">\n",
       "  <thead>\n",
       "    <tr style=\"text-align: right;\">\n",
       "      <th></th>\n",
       "      <th>velocidad</th>\n",
       "      <th>potencia</th>\n",
       "      <th>per_solidos</th>\n",
       "      <th>celda_carga</th>\n",
       "      <th>rendimiento</th>\n",
       "      <th>flujo_agua</th>\n",
       "      <th>ruido</th>\n",
       "      <th>p80</th>\n",
       "      <th>in14</th>\n",
       "      <th>in12</th>\n",
       "      <th>...</th>\n",
       "      <th>in1</th>\n",
       "      <th>f80</th>\n",
       "      <th>dureza</th>\n",
       "      <th>wi</th>\n",
       "      <th>spi</th>\n",
       "      <th>imp_criticos</th>\n",
       "      <th>imp_estandares</th>\n",
       "      <th>jb</th>\n",
       "      <th>presion_avg</th>\n",
       "      <th>presion_ewm</th>\n",
       "    </tr>\n",
       "    <tr>\n",
       "      <th>date</th>\n",
       "      <th></th>\n",
       "      <th></th>\n",
       "      <th></th>\n",
       "      <th></th>\n",
       "      <th></th>\n",
       "      <th></th>\n",
       "      <th></th>\n",
       "      <th></th>\n",
       "      <th></th>\n",
       "      <th></th>\n",
       "      <th></th>\n",
       "      <th></th>\n",
       "      <th></th>\n",
       "      <th></th>\n",
       "      <th></th>\n",
       "      <th></th>\n",
       "      <th></th>\n",
       "      <th></th>\n",
       "      <th></th>\n",
       "      <th></th>\n",
       "      <th></th>\n",
       "    </tr>\n",
       "  </thead>\n",
       "  <tbody>\n",
       "    <tr>\n",
       "      <th>2022-11-15 00:00:00</th>\n",
       "      <td>75.761031</td>\n",
       "      <td>38829.984689</td>\n",
       "      <td>73.39844</td>\n",
       "      <td>78.362584</td>\n",
       "      <td>65.777186</td>\n",
       "      <td>73.931659</td>\n",
       "      <td>15.788181</td>\n",
       "      <td>64.260113</td>\n",
       "      <td>99.98547</td>\n",
       "      <td>99.93459</td>\n",
       "      <td>...</td>\n",
       "      <td>29.857760</td>\n",
       "      <td>39.063374</td>\n",
       "      <td>66.040209</td>\n",
       "      <td>94.815049</td>\n",
       "      <td>54.50695</td>\n",
       "      <td>5.75307</td>\n",
       "      <td>64.40281</td>\n",
       "      <td>0.045367</td>\n",
       "      <td>91.875140</td>\n",
       "      <td>88.832868</td>\n",
       "    </tr>\n",
       "    <tr>\n",
       "      <th>2022-11-15 00:00:10</th>\n",
       "      <td>75.761031</td>\n",
       "      <td>38801.377137</td>\n",
       "      <td>72.96875</td>\n",
       "      <td>78.673050</td>\n",
       "      <td>65.561138</td>\n",
       "      <td>74.949818</td>\n",
       "      <td>15.428343</td>\n",
       "      <td>64.260113</td>\n",
       "      <td>99.99471</td>\n",
       "      <td>99.97040</td>\n",
       "      <td>...</td>\n",
       "      <td>30.130893</td>\n",
       "      <td>39.063374</td>\n",
       "      <td>66.040209</td>\n",
       "      <td>94.815049</td>\n",
       "      <td>54.50695</td>\n",
       "      <td>5.75307</td>\n",
       "      <td>64.40281</td>\n",
       "      <td>0.043414</td>\n",
       "      <td>92.364275</td>\n",
       "      <td>89.271139</td>\n",
       "    </tr>\n",
       "    <tr>\n",
       "      <th>2022-11-15 00:00:20</th>\n",
       "      <td>75.761031</td>\n",
       "      <td>38168.832363</td>\n",
       "      <td>72.57031</td>\n",
       "      <td>78.973500</td>\n",
       "      <td>64.127962</td>\n",
       "      <td>75.815971</td>\n",
       "      <td>15.428343</td>\n",
       "      <td>64.260113</td>\n",
       "      <td>99.99471</td>\n",
       "      <td>99.97040</td>\n",
       "      <td>...</td>\n",
       "      <td>30.130893</td>\n",
       "      <td>39.063374</td>\n",
       "      <td>66.040209</td>\n",
       "      <td>94.815049</td>\n",
       "      <td>54.50695</td>\n",
       "      <td>5.75307</td>\n",
       "      <td>64.40281</td>\n",
       "      <td>0.041364</td>\n",
       "      <td>93.021432</td>\n",
       "      <td>89.849212</td>\n",
       "    </tr>\n",
       "    <tr>\n",
       "      <th>2022-11-15 00:00:30</th>\n",
       "      <td>75.761031</td>\n",
       "      <td>39007.987239</td>\n",
       "      <td>72.55859</td>\n",
       "      <td>78.973500</td>\n",
       "      <td>63.999458</td>\n",
       "      <td>75.815971</td>\n",
       "      <td>14.517244</td>\n",
       "      <td>64.260113</td>\n",
       "      <td>99.99471</td>\n",
       "      <td>99.97040</td>\n",
       "      <td>...</td>\n",
       "      <td>30.130893</td>\n",
       "      <td>35.656382</td>\n",
       "      <td>66.040209</td>\n",
       "      <td>94.815049</td>\n",
       "      <td>54.50695</td>\n",
       "      <td>5.75307</td>\n",
       "      <td>64.40281</td>\n",
       "      <td>0.039330</td>\n",
       "      <td>92.073034</td>\n",
       "      <td>89.613041</td>\n",
       "    </tr>\n",
       "    <tr>\n",
       "      <th>2022-11-15 00:00:40</th>\n",
       "      <td>75.684350</td>\n",
       "      <td>38731.447564</td>\n",
       "      <td>72.55859</td>\n",
       "      <td>79.223876</td>\n",
       "      <td>66.060989</td>\n",
       "      <td>75.815971</td>\n",
       "      <td>14.517244</td>\n",
       "      <td>64.260113</td>\n",
       "      <td>99.99544</td>\n",
       "      <td>99.97289</td>\n",
       "      <td>...</td>\n",
       "      <td>28.725894</td>\n",
       "      <td>35.479188</td>\n",
       "      <td>66.040209</td>\n",
       "      <td>94.815049</td>\n",
       "      <td>54.50695</td>\n",
       "      <td>5.75307</td>\n",
       "      <td>64.40281</td>\n",
       "      <td>0.037073</td>\n",
       "      <td>92.166380</td>\n",
       "      <td>89.520688</td>\n",
       "    </tr>\n",
       "  </tbody>\n",
       "</table>\n",
       "<p>5 rows × 28 columns</p>\n",
       "</div>"
      ],
      "text/plain": [
       "                     velocidad      potencia  per_solidos  celda_carga  \\\n",
       "date                                                                     \n",
       "2022-11-15 00:00:00  75.761031  38829.984689     73.39844    78.362584   \n",
       "2022-11-15 00:00:10  75.761031  38801.377137     72.96875    78.673050   \n",
       "2022-11-15 00:00:20  75.761031  38168.832363     72.57031    78.973500   \n",
       "2022-11-15 00:00:30  75.761031  39007.987239     72.55859    78.973500   \n",
       "2022-11-15 00:00:40  75.684350  38731.447564     72.55859    79.223876   \n",
       "\n",
       "                     rendimiento  flujo_agua      ruido        p80      in14  \\\n",
       "date                                                                           \n",
       "2022-11-15 00:00:00    65.777186   73.931659  15.788181  64.260113  99.98547   \n",
       "2022-11-15 00:00:10    65.561138   74.949818  15.428343  64.260113  99.99471   \n",
       "2022-11-15 00:00:20    64.127962   75.815971  15.428343  64.260113  99.99471   \n",
       "2022-11-15 00:00:30    63.999458   75.815971  14.517244  64.260113  99.99471   \n",
       "2022-11-15 00:00:40    66.060989   75.815971  14.517244  64.260113  99.99544   \n",
       "\n",
       "                         in12  ...        in1        f80     dureza  \\\n",
       "date                           ...                                    \n",
       "2022-11-15 00:00:00  99.93459  ...  29.857760  39.063374  66.040209   \n",
       "2022-11-15 00:00:10  99.97040  ...  30.130893  39.063374  66.040209   \n",
       "2022-11-15 00:00:20  99.97040  ...  30.130893  39.063374  66.040209   \n",
       "2022-11-15 00:00:30  99.97040  ...  30.130893  35.656382  66.040209   \n",
       "2022-11-15 00:00:40  99.97289  ...  28.725894  35.479188  66.040209   \n",
       "\n",
       "                            wi       spi  imp_criticos  imp_estandares  \\\n",
       "date                                                                     \n",
       "2022-11-15 00:00:00  94.815049  54.50695       5.75307        64.40281   \n",
       "2022-11-15 00:00:10  94.815049  54.50695       5.75307        64.40281   \n",
       "2022-11-15 00:00:20  94.815049  54.50695       5.75307        64.40281   \n",
       "2022-11-15 00:00:30  94.815049  54.50695       5.75307        64.40281   \n",
       "2022-11-15 00:00:40  94.815049  54.50695       5.75307        64.40281   \n",
       "\n",
       "                           jb  presion_avg  presion_ewm  \n",
       "date                                                     \n",
       "2022-11-15 00:00:00  0.045367    91.875140    88.832868  \n",
       "2022-11-15 00:00:10  0.043414    92.364275    89.271139  \n",
       "2022-11-15 00:00:20  0.041364    93.021432    89.849212  \n",
       "2022-11-15 00:00:30  0.039330    92.073034    89.613041  \n",
       "2022-11-15 00:00:40  0.037073    92.166380    89.520688  \n",
       "\n",
       "[5 rows x 28 columns]"
      ]
     },
     "execution_count": 9,
     "metadata": {},
     "output_type": "execute_result"
    }
   ],
   "source": [
    "df.head()"
   ]
  },
  {
   "cell_type": "code",
   "execution_count": 13,
   "metadata": {},
   "outputs": [],
   "source": [
    "from sklearn.model_selection import train_test_split\n",
    "\n",
    "X = df.drop('presion_ewm', axis=1)\n",
    "y = df['presion_ewm']"
   ]
  },
  {
   "cell_type": "code",
   "execution_count": 14,
   "metadata": {},
   "outputs": [],
   "source": [
    "X_train, X_test, y_train, y_test = train_test_split(X, y, test_size=0.3, random_state=42)"
   ]
  },
  {
   "cell_type": "code",
   "execution_count": 16,
   "metadata": {},
   "outputs": [
    {
     "data": {
      "text/plain": [
       "RandomForestRegressor(random_state=42)"
      ]
     },
     "execution_count": 16,
     "metadata": {},
     "output_type": "execute_result"
    }
   ],
   "source": [
    "from sklearn.ensemble import RandomForestRegressor\n",
    "\n",
    "rf = RandomForestRegressor(n_estimators=100, random_state=42)\n",
    "rf.fit(X_train, y_train)"
   ]
  },
  {
   "cell_type": "code",
   "execution_count": 24,
   "metadata": {},
   "outputs": [
    {
     "data": {
      "text/plain": [
       "Text(0.5, 1.0, 'Global Feature Importance - Built-in Method')"
      ]
     },
     "execution_count": 24,
     "metadata": {},
     "output_type": "execute_result"
    },
    {
     "data": {
      "image/png": "[encoded data removed]",
      "text/plain": [
       "<Figure size 864x864 with 1 Axes>"
      ]
     },
     "metadata": {
      "needs_background": "light"
     },
     "output_type": "display_data"
    }
   ],
   "source": [
    "plt.figure(figsize=(12,12))\n",
    "global_importances = pd.Series(rf.feature_importances_, index=X_train.columns)\n",
    "global_importances.sort_values(ascending=True, inplace=True)\n",
    "global_importances.plot.barh(color='green')\n",
    "plt.xlabel(\"Importance\")\n",
    "plt.ylabel(\"Feature\")\n",
    "plt.title(\"Global Feature Importance - Built-in Method\")"
   ]
  },
  {
   "cell_type": "code",
   "execution_count": 18,
   "metadata": {},
   "outputs": [
    {
     "data": {
      "text/plain": [
       "RandomForestRegressor(random_state=42)"
      ]
     },
     "execution_count": 18,
     "metadata": {},
     "output_type": "execute_result"
    }
   ],
   "source": [
    "import numpy as np\n",
    "\n",
    "X_train_random = X_train.copy()\n",
    "X_train_random[\"RANDOM\"] = np.random.RandomState(42).randn(X_train.shape[0])\n",
    "\n",
    "rf_random = RandomForestRegressor(n_estimators=100, random_state=42)\n",
    "rf_random.fit(X_train_random, y_train)"
   ]
  },
  {
   "cell_type": "code",
   "execution_count": 30,
   "metadata": {},
   "outputs": [
    {
     "data": {
      "text/plain": [
       "<Figure size 864x864 with 0 Axes>"
      ]
     },
     "metadata": {},
     "output_type": "display_data"
    }
   ],
   "source": [
    "%matplotlib inline\n",
    "plt.figure(figsize=(12,12))\n",
    "global_importances_random = pd.Series(rf_random.feature_importances_, index=X_train_random.columns)\n",
    "global_importances_random.sort_values(ascending=True, inplace=True)\n",
    "plt.show()"
   ]
  },
  {
   "cell_type": "code",
   "execution_count": null,
   "metadata": {},
   "outputs": [],
   "source": []
  }
 ],
 "metadata": {
  "kernelspec": {
   "display_name": "base",
   "language": "python",
   "name": "python3"
  },
  "language_info": {
   "codemirror_mode": {
    "name": "ipython",
    "version": 3
   },
   "file_extension": ".py",
   "mimetype": "text/x-python",
   "name": "python",
   "nbconvert_exporter": "python",
   "pygments_lexer": "ipython3",
   "version": "3.8.10"
  }
 },
 "nbformat": 4,
 "nbformat_minor": 2
}
