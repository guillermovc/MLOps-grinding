{
 "cells": [
  {
   "cell_type": "markdown",
   "metadata": {},
   "source": [
    "# Evaluación del Mejor Modelo:"
   ]
  },
  {
   "cell_type": "markdown",
   "metadata": {},
   "source": [
    "Modelo 1: SVM.\n",
    "\n",
    "![alt text](<./graphics/01 - SVM.png>)"
   ]
  },
  {
   "cell_type": "markdown",
   "metadata": {},
   "source": [
    "Modelo 2: XGboost.\n",
    "\n",
    "![alt text](<./graphics/02 - XG Boost.png>)"
   ]
  },
  {
   "cell_type": "markdown",
   "metadata": {},
   "source": [
    "Modelo 3: KNeighbors Regressor.\n",
    "\n",
    "![alt text](<./graphics/03 - KNeighbors Regressor.png>)"
   ]
  },
  {
   "cell_type": "markdown",
   "metadata": {},
   "source": [
    "Modelo 4: RabdomForest Regressor.\n",
    "\n",
    "![alt text](<./graphics/04 - RabdomForest Regressor.png>)"
   ]
  }
 ],
 "metadata": {
  "language_info": {
   "name": "python"
  }
 },
 "nbformat": 4,
 "nbformat_minor": 2
}
