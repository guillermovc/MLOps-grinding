{
 "cells": [
  {
   "cell_type": "markdown",
   "metadata": {},
   "source": [
    "# Modelo SVM para predecir la presión (SVR)"
   ]
  },
  {
   "cell_type": "code",
   "execution_count": 1,
   "metadata": {},
   "outputs": [],
   "source": [
    "from typing import Union, Tuple\n",
    "from pathlib import Path\n",
    "from pprint import pprint\n",
    "\n",
    "import numpy as np\n",
    "import pandas as pd\n",
    "\n",
    "# Importar los estimadores y escaladores necesarios\n",
    "from sklearn.base import BaseEstimator\n",
    "from sklearn.svm import SVR\n",
    "from sklearn.preprocessing import RobustScaler, StandardScaler, MinMaxScaler\n",
    "\n",
    "# Importar GridSearchCV para realizar la búsqueda de hiperparámetros\n",
    "from sklearn.model_selection import GridSearchCV, RandomizedSearchCV\n",
    "from sklearn.model_selection import train_test_split\n",
    "\n",
    "from sklearn.pipeline import Pipeline\n",
    "\n",
    "# Trackeo de experimentos\n",
    "import mlflow\n",
    "import dagshub"
   ]
  },
  {
   "cell_type": "code",
   "execution_count": 2,
   "metadata": {},
   "outputs": [],
   "source": [
    "mlflow.sklearn.autolog()"
   ]
  },
  {
   "cell_type": "code",
   "execution_count": 3,
   "metadata": {},
   "outputs": [
    {
     "data": {
      "text/html": [
       "<pre style=\"white-space:pre;overflow-x:auto;line-height:normal;font-family:Menlo,'DejaVu Sans Mono',consolas,'Courier New',monospace\">Initialized MLflow to track repo <span style=\"color: #008000; text-decoration-color: #008000\">\"guillermovc/MLOps-grinding\"</span>\n",
       "</pre>\n"
      ],
      "text/plain": [
       "Initialized MLflow to track repo \u001b[32m\"guillermovc/MLOps-grinding\"\u001b[0m\n"
      ]
     },
     "metadata": {},
     "output_type": "display_data"
    },
    {
     "data": {
      "text/html": [
       "<pre style=\"white-space:pre;overflow-x:auto;line-height:normal;font-family:Menlo,'DejaVu Sans Mono',consolas,'Courier New',monospace\">Repository guillermovc/MLOps-grinding initialized!\n",
       "</pre>\n"
      ],
      "text/plain": [
       "Repository guillermovc/MLOps-grinding initialized!\n"
      ]
     },
     "metadata": {},
     "output_type": "display_data"
    }
   ],
   "source": [
    "# Te dará un link para que te logees en dagshub\n",
    "dagshub.init(repo_owner='guillermovc', repo_name='MLOps-grinding', mlflow=True)"
   ]
  },
  {
   "cell_type": "markdown",
   "metadata": {},
   "source": [
    "## Definir función para buscar hiperparámetros"
   ]
  },
  {
   "cell_type": "code",
   "execution_count": 4,
   "metadata": {},
   "outputs": [],
   "source": [
    "# definimos la función que toma datos y devuelve los mejores parámetros\n",
    "\n",
    "def search_params(\n",
    "        estimator: BaseEstimator,\n",
    "        params: dict,\n",
    "        X: np.ndarray, \n",
    "        y: np.ndarray, \n",
    "        random: bool = False, \n",
    "        n_iter: int = 100,\n",
    "    ) -> Tuple[SVR, dict]:\n",
    "    # Definir los parámetros para GridSearchCV\n",
    "\n",
    "    print(f\"Los parámetros para probar en nuestras pipelines son:\")\n",
    "    pprint(params)\n",
    "\n",
    "    # Creamos un pipeline con parámetros por defecto (serán sustituidos)\n",
    "    pipeline = Pipeline([\n",
    "        ('scaler', None),\n",
    "        ('regressor', estimator())\n",
    "    ])\n",
    "\n",
    "    if random:\n",
    "        search = RandomizedSearchCV(pipeline, params, cv=5, n_jobs=-1, \n",
    "                                    scoring='neg_mean_squared_error', verbose=1, n_iter=n_iter)\n",
    "    else:\n",
    "        search = GridSearchCV(pipeline, params, cv=5, n_jobs=-1, \n",
    "                              scoring='neg_mean_squared_error', verbose=1)\n",
    "\n",
    "    search.fit(X, y)\n",
    "\n",
    "    # Obtener los mejores hiperparámetros y el mejor modelo\n",
    "    best_params = search.best_params_\n",
    "    best_model = search.best_estimator_\n",
    "\n",
    "    print(f\"Los mejores parámetros de la busqueda: {best_params}\")\n",
    "    print(f\"El mejor modelo de la busqueda: {best_model}\")\n",
    "\n",
    "    return best_model, best_params"
   ]
  },
  {
   "cell_type": "markdown",
   "metadata": {},
   "source": [
    "## Cargar el DataFrame"
   ]
  },
  {
   "cell_type": "code",
   "execution_count": 5,
   "metadata": {},
   "outputs": [
    {
     "name": "stdout",
     "output_type": "stream",
     "text": [
      "[PosixPath('../data/processed/datos_molienda_prueba.parquet'),\n",
      " PosixPath('../data/processed/df_model_no_outliers.parquet'),\n",
      " PosixPath('../data/processed/df_model_tidy.parquet')]\n"
     ]
    }
   ],
   "source": [
    "# Definir la ruta de los datos\n",
    "data_path: Path = Path(r\"../data/processed\")\n",
    "if not data_path.exists():\n",
    "    print(f\"El path {data_path} no existe, favor de revisar.\")\n",
    "\n",
    "# Imprimir archivos en la carpeta de datos\n",
    "pprint(list(data_path.glob(\"*\")))"
   ]
  },
  {
   "cell_type": "code",
   "execution_count": 6,
   "metadata": {},
   "outputs": [
    {
     "data": {
      "text/html": [
       "<div>\n",
       "<style scoped>\n",
       "    .dataframe tbody tr th:only-of-type {\n",
       "        vertical-align: middle;\n",
       "    }\n",
       "\n",
       "    .dataframe tbody tr th {\n",
       "        vertical-align: top;\n",
       "    }\n",
       "\n",
       "    .dataframe thead th {\n",
       "        text-align: right;\n",
       "    }\n",
       "</style>\n",
       "<table border=\"1\" class=\"dataframe\">\n",
       "  <thead>\n",
       "    <tr style=\"text-align: right;\">\n",
       "      <th></th>\n",
       "      <th>date</th>\n",
       "      <th>velocidad</th>\n",
       "      <th>potencia</th>\n",
       "      <th>rendimiento</th>\n",
       "      <th>ruido</th>\n",
       "      <th>p80</th>\n",
       "      <th>f80</th>\n",
       "      <th>per_solidos</th>\n",
       "      <th>wi</th>\n",
       "      <th>spi</th>\n",
       "      <th>imp_criticos</th>\n",
       "      <th>imp_estandares</th>\n",
       "      <th>jb</th>\n",
       "      <th>presion</th>\n",
       "    </tr>\n",
       "  </thead>\n",
       "  <tbody>\n",
       "    <tr>\n",
       "      <th>0</th>\n",
       "      <td>2022-11-15 00:07:50</td>\n",
       "      <td>75.761029</td>\n",
       "      <td>39281.348296</td>\n",
       "      <td>65.653747</td>\n",
       "      <td>22.932414</td>\n",
       "      <td>64.260113</td>\n",
       "      <td>36.574719</td>\n",
       "      <td>71.583049</td>\n",
       "      <td>94.815049</td>\n",
       "      <td>54.50695</td>\n",
       "      <td>7.101110</td>\n",
       "      <td>65.598165</td>\n",
       "      <td>9.183127</td>\n",
       "      <td>87.199926</td>\n",
       "    </tr>\n",
       "    <tr>\n",
       "      <th>1</th>\n",
       "      <td>2022-11-15 00:08:00</td>\n",
       "      <td>75.761029</td>\n",
       "      <td>39850.320731</td>\n",
       "      <td>65.691489</td>\n",
       "      <td>22.932414</td>\n",
       "      <td>64.260113</td>\n",
       "      <td>36.555098</td>\n",
       "      <td>71.579590</td>\n",
       "      <td>94.815049</td>\n",
       "      <td>54.50695</td>\n",
       "      <td>7.191338</td>\n",
       "      <td>65.798205</td>\n",
       "      <td>9.180693</td>\n",
       "      <td>87.402467</td>\n",
       "    </tr>\n",
       "    <tr>\n",
       "      <th>2</th>\n",
       "      <td>2022-11-15 00:08:10</td>\n",
       "      <td>75.761029</td>\n",
       "      <td>39761.319456</td>\n",
       "      <td>65.783858</td>\n",
       "      <td>21.329909</td>\n",
       "      <td>64.260113</td>\n",
       "      <td>36.535478</td>\n",
       "      <td>71.585002</td>\n",
       "      <td>94.815049</td>\n",
       "      <td>54.50695</td>\n",
       "      <td>7.281566</td>\n",
       "      <td>65.998244</td>\n",
       "      <td>9.178803</td>\n",
       "      <td>87.492231</td>\n",
       "    </tr>\n",
       "  </tbody>\n",
       "</table>\n",
       "</div>"
      ],
      "text/plain": [
       "                 date  velocidad      potencia  rendimiento      ruido  \\\n",
       "0 2022-11-15 00:07:50  75.761029  39281.348296    65.653747  22.932414   \n",
       "1 2022-11-15 00:08:00  75.761029  39850.320731    65.691489  22.932414   \n",
       "2 2022-11-15 00:08:10  75.761029  39761.319456    65.783858  21.329909   \n",
       "\n",
       "         p80        f80  per_solidos         wi       spi  imp_criticos  \\\n",
       "0  64.260113  36.574719    71.583049  94.815049  54.50695      7.101110   \n",
       "1  64.260113  36.555098    71.579590  94.815049  54.50695      7.191338   \n",
       "2  64.260113  36.535478    71.585002  94.815049  54.50695      7.281566   \n",
       "\n",
       "   imp_estandares        jb    presion  \n",
       "0       65.598165  9.183127  87.199926  \n",
       "1       65.798205  9.180693  87.402467  \n",
       "2       65.998244  9.178803  87.492231  "
      ]
     },
     "execution_count": 6,
     "metadata": {},
     "output_type": "execute_result"
    }
   ],
   "source": [
    "parquet_path = data_path / \"df_model_tidy.parquet\"\n",
    "\n",
    "df = pd.read_parquet(parquet_path)\n",
    "df.head(3)"
   ]
  },
  {
   "cell_type": "code",
   "execution_count": 7,
   "metadata": {},
   "outputs": [
    {
     "data": {
      "text/html": [
       "<div>\n",
       "<style scoped>\n",
       "    .dataframe tbody tr th:only-of-type {\n",
       "        vertical-align: middle;\n",
       "    }\n",
       "\n",
       "    .dataframe tbody tr th {\n",
       "        vertical-align: top;\n",
       "    }\n",
       "\n",
       "    .dataframe thead th {\n",
       "        text-align: right;\n",
       "    }\n",
       "</style>\n",
       "<table border=\"1\" class=\"dataframe\">\n",
       "  <thead>\n",
       "    <tr style=\"text-align: right;\">\n",
       "      <th></th>\n",
       "      <th>date</th>\n",
       "      <th>velocidad</th>\n",
       "      <th>potencia</th>\n",
       "      <th>rendimiento</th>\n",
       "      <th>ruido</th>\n",
       "      <th>p80</th>\n",
       "      <th>f80</th>\n",
       "      <th>per_solidos</th>\n",
       "      <th>wi</th>\n",
       "      <th>spi</th>\n",
       "      <th>imp_criticos</th>\n",
       "      <th>imp_estandares</th>\n",
       "      <th>jb</th>\n",
       "      <th>presion</th>\n",
       "    </tr>\n",
       "  </thead>\n",
       "  <tbody>\n",
       "    <tr>\n",
       "      <th>248615</th>\n",
       "      <td>2022-12-14 23:59:40</td>\n",
       "      <td>75.497677</td>\n",
       "      <td>40686.296989</td>\n",
       "      <td>71.458539</td>\n",
       "      <td>8.845677</td>\n",
       "      <td>26.446656</td>\n",
       "      <td>46.134072</td>\n",
       "      <td>77.327109</td>\n",
       "      <td>92.573475</td>\n",
       "      <td>38.54322</td>\n",
       "      <td>0.898244</td>\n",
       "      <td>32.434377</td>\n",
       "      <td>89.314536</td>\n",
       "      <td>89.181349</td>\n",
       "    </tr>\n",
       "    <tr>\n",
       "      <th>248616</th>\n",
       "      <td>2022-12-14 23:59:50</td>\n",
       "      <td>75.499274</td>\n",
       "      <td>40686.296989</td>\n",
       "      <td>71.513813</td>\n",
       "      <td>8.845677</td>\n",
       "      <td>26.446656</td>\n",
       "      <td>46.336617</td>\n",
       "      <td>77.356121</td>\n",
       "      <td>92.573475</td>\n",
       "      <td>38.54322</td>\n",
       "      <td>0.896897</td>\n",
       "      <td>32.574649</td>\n",
       "      <td>89.314536</td>\n",
       "      <td>89.181349</td>\n",
       "    </tr>\n",
       "    <tr>\n",
       "      <th>248617</th>\n",
       "      <td>2022-12-15 00:00:00</td>\n",
       "      <td>75.499274</td>\n",
       "      <td>40594.117098</td>\n",
       "      <td>71.512283</td>\n",
       "      <td>9.922163</td>\n",
       "      <td>26.446656</td>\n",
       "      <td>46.590890</td>\n",
       "      <td>77.381390</td>\n",
       "      <td>92.573475</td>\n",
       "      <td>38.54322</td>\n",
       "      <td>0.904977</td>\n",
       "      <td>32.674668</td>\n",
       "      <td>89.310092</td>\n",
       "      <td>89.311585</td>\n",
       "    </tr>\n",
       "  </tbody>\n",
       "</table>\n",
       "</div>"
      ],
      "text/plain": [
       "                      date  velocidad      potencia  rendimiento     ruido  \\\n",
       "248615 2022-12-14 23:59:40  75.497677  40686.296989    71.458539  8.845677   \n",
       "248616 2022-12-14 23:59:50  75.499274  40686.296989    71.513813  8.845677   \n",
       "248617 2022-12-15 00:00:00  75.499274  40594.117098    71.512283  9.922163   \n",
       "\n",
       "              p80        f80  per_solidos         wi       spi  imp_criticos  \\\n",
       "248615  26.446656  46.134072    77.327109  92.573475  38.54322      0.898244   \n",
       "248616  26.446656  46.336617    77.356121  92.573475  38.54322      0.896897   \n",
       "248617  26.446656  46.590890    77.381390  92.573475  38.54322      0.904977   \n",
       "\n",
       "        imp_estandares         jb    presion  \n",
       "248615       32.434377  89.314536  89.181349  \n",
       "248616       32.574649  89.314536  89.181349  \n",
       "248617       32.674668  89.310092  89.311585  "
      ]
     },
     "execution_count": 7,
     "metadata": {},
     "output_type": "execute_result"
    }
   ],
   "source": [
    "df.tail(3)"
   ]
  },
  {
   "cell_type": "markdown",
   "metadata": {},
   "source": [
    "## Definir `X` y `y`"
   ]
  },
  {
   "cell_type": "code",
   "execution_count": 8,
   "metadata": {},
   "outputs": [
    {
     "name": "stdout",
     "output_type": "stream",
     "text": [
      "type(X) = <class 'numpy.ndarray'>\n",
      "type(y) = <class 'numpy.ndarray'>\n",
      "X.shape = (248618, 12)\n",
      "y.shape = (248618,)\n"
     ]
    }
   ],
   "source": [
    "X: np.ndarray = df.drop(columns=[\"presion\", \"date\"]).to_numpy()\n",
    "y: np.ndarray = df[\"presion\"].to_numpy()\n",
    "\n",
    "# Verificar tipos\n",
    "print(f\"{type(X) = }\")\n",
    "print(f\"{type(y) = }\")\n",
    "\n",
    "# Verificar formas\n",
    "print(f\"{X.shape = }\")\n",
    "print(f\"{y.shape = }\")"
   ]
  },
  {
   "cell_type": "markdown",
   "metadata": {},
   "source": [
    "# Separar en entrenamiento y prueba\n",
    "\n",
    "Debido a que nuestro approach fue convertir de una serie de tiempo a un intervalo de 8 minutos, reservaremos primero los últimos días para probar el modelo."
   ]
  },
  {
   "cell_type": "code",
   "execution_count": 9,
   "metadata": {},
   "outputs": [
    {
     "data": {
      "text/html": [
       "<div>\n",
       "<style scoped>\n",
       "    .dataframe tbody tr th:only-of-type {\n",
       "        vertical-align: middle;\n",
       "    }\n",
       "\n",
       "    .dataframe tbody tr th {\n",
       "        vertical-align: top;\n",
       "    }\n",
       "\n",
       "    .dataframe thead th {\n",
       "        text-align: right;\n",
       "    }\n",
       "</style>\n",
       "<table border=\"1\" class=\"dataframe\">\n",
       "  <thead>\n",
       "    <tr style=\"text-align: right;\">\n",
       "      <th></th>\n",
       "      <th>date</th>\n",
       "      <th>velocidad</th>\n",
       "      <th>potencia</th>\n",
       "      <th>rendimiento</th>\n",
       "      <th>ruido</th>\n",
       "      <th>p80</th>\n",
       "      <th>f80</th>\n",
       "      <th>per_solidos</th>\n",
       "      <th>wi</th>\n",
       "      <th>spi</th>\n",
       "      <th>imp_criticos</th>\n",
       "      <th>imp_estandares</th>\n",
       "      <th>jb</th>\n",
       "      <th>presion</th>\n",
       "    </tr>\n",
       "  </thead>\n",
       "  <tbody>\n",
       "    <tr>\n",
       "      <th>223268</th>\n",
       "      <td>2022-12-12 00:00:10</td>\n",
       "      <td>61.231838</td>\n",
       "      <td>32730.218758</td>\n",
       "      <td>45.510341</td>\n",
       "      <td>3.604423</td>\n",
       "      <td>30.482594</td>\n",
       "      <td>29.060758</td>\n",
       "      <td>74.104980</td>\n",
       "      <td>96.306752</td>\n",
       "      <td>40.677938</td>\n",
       "      <td>0.000000</td>\n",
       "      <td>8.332114</td>\n",
       "      <td>86.330692</td>\n",
       "      <td>87.412911</td>\n",
       "    </tr>\n",
       "    <tr>\n",
       "      <th>223269</th>\n",
       "      <td>2022-12-12 00:00:20</td>\n",
       "      <td>61.164822</td>\n",
       "      <td>31598.631123</td>\n",
       "      <td>45.475115</td>\n",
       "      <td>3.791207</td>\n",
       "      <td>30.482594</td>\n",
       "      <td>29.061834</td>\n",
       "      <td>74.140991</td>\n",
       "      <td>96.306752</td>\n",
       "      <td>40.677938</td>\n",
       "      <td>0.000000</td>\n",
       "      <td>8.282104</td>\n",
       "      <td>86.327785</td>\n",
       "      <td>87.228387</td>\n",
       "    </tr>\n",
       "    <tr>\n",
       "      <th>223270</th>\n",
       "      <td>2022-12-12 00:00:30</td>\n",
       "      <td>61.097805</td>\n",
       "      <td>31541.416018</td>\n",
       "      <td>45.407662</td>\n",
       "      <td>3.791207</td>\n",
       "      <td>30.482594</td>\n",
       "      <td>29.062910</td>\n",
       "      <td>74.177002</td>\n",
       "      <td>96.306752</td>\n",
       "      <td>40.677938</td>\n",
       "      <td>0.000000</td>\n",
       "      <td>8.232094</td>\n",
       "      <td>86.326418</td>\n",
       "      <td>86.801345</td>\n",
       "    </tr>\n",
       "    <tr>\n",
       "      <th>223271</th>\n",
       "      <td>2022-12-12 00:00:40</td>\n",
       "      <td>61.030789</td>\n",
       "      <td>32142.174622</td>\n",
       "      <td>45.358609</td>\n",
       "      <td>3.791207</td>\n",
       "      <td>30.482594</td>\n",
       "      <td>29.074935</td>\n",
       "      <td>74.213013</td>\n",
       "      <td>96.306752</td>\n",
       "      <td>40.677938</td>\n",
       "      <td>0.000000</td>\n",
       "      <td>8.182084</td>\n",
       "      <td>86.325211</td>\n",
       "      <td>86.303138</td>\n",
       "    </tr>\n",
       "    <tr>\n",
       "      <th>223272</th>\n",
       "      <td>2022-12-12 00:00:50</td>\n",
       "      <td>60.963772</td>\n",
       "      <td>32142.174622</td>\n",
       "      <td>45.345342</td>\n",
       "      <td>3.791207</td>\n",
       "      <td>30.482594</td>\n",
       "      <td>29.040282</td>\n",
       "      <td>74.246053</td>\n",
       "      <td>96.306752</td>\n",
       "      <td>40.677938</td>\n",
       "      <td>0.000000</td>\n",
       "      <td>8.132075</td>\n",
       "      <td>86.323845</td>\n",
       "      <td>86.186404</td>\n",
       "    </tr>\n",
       "    <tr>\n",
       "      <th>...</th>\n",
       "      <td>...</td>\n",
       "      <td>...</td>\n",
       "      <td>...</td>\n",
       "      <td>...</td>\n",
       "      <td>...</td>\n",
       "      <td>...</td>\n",
       "      <td>...</td>\n",
       "      <td>...</td>\n",
       "      <td>...</td>\n",
       "      <td>...</td>\n",
       "      <td>...</td>\n",
       "      <td>...</td>\n",
       "      <td>...</td>\n",
       "      <td>...</td>\n",
       "    </tr>\n",
       "    <tr>\n",
       "      <th>248613</th>\n",
       "      <td>2022-12-14 23:59:20</td>\n",
       "      <td>75.494482</td>\n",
       "      <td>41194.875702</td>\n",
       "      <td>71.307249</td>\n",
       "      <td>8.845677</td>\n",
       "      <td>26.446656</td>\n",
       "      <td>45.849870</td>\n",
       "      <td>77.265464</td>\n",
       "      <td>92.573475</td>\n",
       "      <td>38.543220</td>\n",
       "      <td>0.900937</td>\n",
       "      <td>32.153835</td>\n",
       "      <td>89.318678</td>\n",
       "      <td>89.175128</td>\n",
       "    </tr>\n",
       "    <tr>\n",
       "      <th>248614</th>\n",
       "      <td>2022-12-14 23:59:30</td>\n",
       "      <td>75.496079</td>\n",
       "      <td>41194.875702</td>\n",
       "      <td>71.403265</td>\n",
       "      <td>8.845677</td>\n",
       "      <td>26.446656</td>\n",
       "      <td>45.931528</td>\n",
       "      <td>77.298097</td>\n",
       "      <td>92.573475</td>\n",
       "      <td>38.543220</td>\n",
       "      <td>0.899591</td>\n",
       "      <td>32.294106</td>\n",
       "      <td>89.318678</td>\n",
       "      <td>89.175128</td>\n",
       "    </tr>\n",
       "    <tr>\n",
       "      <th>248615</th>\n",
       "      <td>2022-12-14 23:59:40</td>\n",
       "      <td>75.497677</td>\n",
       "      <td>40686.296989</td>\n",
       "      <td>71.458539</td>\n",
       "      <td>8.845677</td>\n",
       "      <td>26.446656</td>\n",
       "      <td>46.134072</td>\n",
       "      <td>77.327109</td>\n",
       "      <td>92.573475</td>\n",
       "      <td>38.543220</td>\n",
       "      <td>0.898244</td>\n",
       "      <td>32.434377</td>\n",
       "      <td>89.314536</td>\n",
       "      <td>89.181349</td>\n",
       "    </tr>\n",
       "    <tr>\n",
       "      <th>248616</th>\n",
       "      <td>2022-12-14 23:59:50</td>\n",
       "      <td>75.499274</td>\n",
       "      <td>40686.296989</td>\n",
       "      <td>71.513813</td>\n",
       "      <td>8.845677</td>\n",
       "      <td>26.446656</td>\n",
       "      <td>46.336617</td>\n",
       "      <td>77.356121</td>\n",
       "      <td>92.573475</td>\n",
       "      <td>38.543220</td>\n",
       "      <td>0.896897</td>\n",
       "      <td>32.574649</td>\n",
       "      <td>89.314536</td>\n",
       "      <td>89.181349</td>\n",
       "    </tr>\n",
       "    <tr>\n",
       "      <th>248617</th>\n",
       "      <td>2022-12-15 00:00:00</td>\n",
       "      <td>75.499274</td>\n",
       "      <td>40594.117098</td>\n",
       "      <td>71.512283</td>\n",
       "      <td>9.922163</td>\n",
       "      <td>26.446656</td>\n",
       "      <td>46.590890</td>\n",
       "      <td>77.381390</td>\n",
       "      <td>92.573475</td>\n",
       "      <td>38.543220</td>\n",
       "      <td>0.904977</td>\n",
       "      <td>32.674668</td>\n",
       "      <td>89.310092</td>\n",
       "      <td>89.311585</td>\n",
       "    </tr>\n",
       "  </tbody>\n",
       "</table>\n",
       "<p>25350 rows × 14 columns</p>\n",
       "</div>"
      ],
      "text/plain": [
       "                      date  velocidad      potencia  rendimiento     ruido  \\\n",
       "223268 2022-12-12 00:00:10  61.231838  32730.218758    45.510341  3.604423   \n",
       "223269 2022-12-12 00:00:20  61.164822  31598.631123    45.475115  3.791207   \n",
       "223270 2022-12-12 00:00:30  61.097805  31541.416018    45.407662  3.791207   \n",
       "223271 2022-12-12 00:00:40  61.030789  32142.174622    45.358609  3.791207   \n",
       "223272 2022-12-12 00:00:50  60.963772  32142.174622    45.345342  3.791207   \n",
       "...                    ...        ...           ...          ...       ...   \n",
       "248613 2022-12-14 23:59:20  75.494482  41194.875702    71.307249  8.845677   \n",
       "248614 2022-12-14 23:59:30  75.496079  41194.875702    71.403265  8.845677   \n",
       "248615 2022-12-14 23:59:40  75.497677  40686.296989    71.458539  8.845677   \n",
       "248616 2022-12-14 23:59:50  75.499274  40686.296989    71.513813  8.845677   \n",
       "248617 2022-12-15 00:00:00  75.499274  40594.117098    71.512283  9.922163   \n",
       "\n",
       "              p80        f80  per_solidos         wi        spi  imp_criticos  \\\n",
       "223268  30.482594  29.060758    74.104980  96.306752  40.677938      0.000000   \n",
       "223269  30.482594  29.061834    74.140991  96.306752  40.677938      0.000000   \n",
       "223270  30.482594  29.062910    74.177002  96.306752  40.677938      0.000000   \n",
       "223271  30.482594  29.074935    74.213013  96.306752  40.677938      0.000000   \n",
       "223272  30.482594  29.040282    74.246053  96.306752  40.677938      0.000000   \n",
       "...           ...        ...          ...        ...        ...           ...   \n",
       "248613  26.446656  45.849870    77.265464  92.573475  38.543220      0.900937   \n",
       "248614  26.446656  45.931528    77.298097  92.573475  38.543220      0.899591   \n",
       "248615  26.446656  46.134072    77.327109  92.573475  38.543220      0.898244   \n",
       "248616  26.446656  46.336617    77.356121  92.573475  38.543220      0.896897   \n",
       "248617  26.446656  46.590890    77.381390  92.573475  38.543220      0.904977   \n",
       "\n",
       "        imp_estandares         jb    presion  \n",
       "223268        8.332114  86.330692  87.412911  \n",
       "223269        8.282104  86.327785  87.228387  \n",
       "223270        8.232094  86.326418  86.801345  \n",
       "223271        8.182084  86.325211  86.303138  \n",
       "223272        8.132075  86.323845  86.186404  \n",
       "...                ...        ...        ...  \n",
       "248613       32.153835  89.318678  89.175128  \n",
       "248614       32.294106  89.318678  89.175128  \n",
       "248615       32.434377  89.314536  89.181349  \n",
       "248616       32.574649  89.314536  89.181349  \n",
       "248617       32.674668  89.310092  89.311585  \n",
       "\n",
       "[25350 rows x 14 columns]"
      ]
     },
     "execution_count": 9,
     "metadata": {},
     "output_type": "execute_result"
    }
   ],
   "source": [
    "# Tomar como prueba los datos desde el 12 de diciembre\n",
    "date = \"2022-12-12\"\n",
    "\n",
    "# Trackear desde que fecha tomaremos para testear\n",
    "mlflow.log_param(\"test_start\", date)\n",
    "\n",
    "df[df[\"date\"] > date]"
   ]
  },
  {
   "cell_type": "code",
   "execution_count": 10,
   "metadata": {},
   "outputs": [
    {
     "data": {
      "text/plain": [
       "10.19636550853116"
      ]
     },
     "execution_count": 10,
     "metadata": {},
     "output_type": "execute_result"
    }
   ],
   "source": [
    "df[df[\"date\"] > date].shape[0]*100/df.shape[0]"
   ]
  },
  {
   "cell_type": "markdown",
   "metadata": {},
   "source": [
    "Tomar los datos desde el 12 de diciembre representa un 10%"
   ]
  },
  {
   "cell_type": "code",
   "execution_count": 11,
   "metadata": {},
   "outputs": [
    {
     "name": "stdout",
     "output_type": "stream",
     "text": [
      "indice_sep = 223268\n"
     ]
    }
   ],
   "source": [
    "indice_sep = df[df[\"date\"] > date].index[0]\n",
    "print(f\"{indice_sep = }\")"
   ]
  },
  {
   "cell_type": "code",
   "execution_count": 12,
   "metadata": {},
   "outputs": [
    {
     "name": "stdout",
     "output_type": "stream",
     "text": [
      "X_train.shape = (223268, 12)\n",
      "X_test.shape = (25350, 12)\n",
      "y_train.shape = (223268,)\n",
      "y_test.shape = (25350,)\n"
     ]
    }
   ],
   "source": [
    "X_train = X[:indice_sep]\n",
    "y_train = y[:indice_sep]\n",
    "\n",
    "X_test = X[indice_sep:]\n",
    "y_test = y[indice_sep:]\n",
    "\n",
    "print(f\"{X_train.shape = }\")\n",
    "print(f\"{X_test.shape = }\")\n",
    "print(f\"{y_train.shape = }\")\n",
    "print(f\"{y_test.shape = }\")"
   ]
  },
  {
   "cell_type": "markdown",
   "metadata": {},
   "source": [
    "## Tomar una pequeña muestra para búsqueda de hiperparámetros"
   ]
  },
  {
   "cell_type": "code",
   "execution_count": 13,
   "metadata": {},
   "outputs": [
    {
     "name": "stdout",
     "output_type": "stream",
     "text": [
      "Se usarán 12,430 entradas para la búsqueda de hiperparámetros del modelo usando 5 folds)\n"
     ]
    }
   ],
   "source": [
    "# Ya que el entrenamiento es muy tardado, tomemos solo una parte de los datos\n",
    "train_tune_size = 0.05\n",
    "random_state = 1\n",
    "\n",
    "# Trackear parámetro con mlflow\n",
    "mlflow.log_param(\"train_tune_size\", train_tune_size)\n",
    "mlflow.log_param(\"random_state\", random_state)\n",
    "\n",
    "X_train_tune, _, y_train_tune, _ = train_test_split(X, y, train_size=train_tune_size, random_state=random_state)\n",
    "print(f\"Se usarán {X_train_tune.shape[0]:,} entradas para la búsqueda de hiperparámetros del modelo usando 5 folds)\")"
   ]
  },
  {
   "cell_type": "code",
   "execution_count": 14,
   "metadata": {},
   "outputs": [
    {
     "data": {
      "text/plain": [
       "(array([7.57610289e+01, 3.92813483e+04, 6.56537472e+01, 2.29324136e+01,\n",
       "        6.42601135e+01, 3.65747190e+01, 7.15830485e+01, 9.48150489e+01,\n",
       "        5.45069496e+01, 7.10110967e+00, 6.55981655e+01, 9.18312691e+00]),\n",
       " 87.19992569135509)"
      ]
     },
     "execution_count": 14,
     "metadata": {},
     "output_type": "execute_result"
    }
   ],
   "source": [
    "X_train[0], y_train[0]"
   ]
  },
  {
   "cell_type": "code",
   "execution_count": 15,
   "metadata": {},
   "outputs": [
    {
     "data": {
      "text/plain": [
       "(array([7.57466521e+01, 4.20626381e+04, 6.13650391e+01, 1.39583069e+01,\n",
       "        4.14472955e+01, 6.56300386e+01, 7.07733160e+01, 9.45722969e+01,\n",
       "        4.71730256e+01, 4.45620556e+00, 6.17571721e+01, 1.02498835e+01]),\n",
       " array([91.26767223, 92.94189947, 89.33333426, ..., 89.88407426,\n",
       "        88.62203393, 92.13461282]))"
      ]
     },
     "execution_count": 15,
     "metadata": {},
     "output_type": "execute_result"
    }
   ],
   "source": [
    "X_train_tune[0], y_train_tune"
   ]
  },
  {
   "cell_type": "markdown",
   "metadata": {},
   "source": [
    "## Buscar hiperparámetros"
   ]
  },
  {
   "cell_type": "code",
   "execution_count": 16,
   "metadata": {},
   "outputs": [
    {
     "name": "stdout",
     "output_type": "stream",
     "text": [
      "Los parámetros para probar en nuestras pipelines son:\n",
      "[{'regressor__C': array([  1.,  12.,  23.,  34.,  45.,  56.,  67.,  78.,  89., 100.]),\n",
      "  'regressor__gamma': ['scale', 'auto'],\n",
      "  'regressor__kernel': ['linear', 'rbf', 'poly'],\n",
      "  'scaler': [RobustScaler(), StandardScaler(), MinMaxScaler()]}]\n",
      "Fitting 5 folds for each of 5 candidates, totalling 25 fits\n"
     ]
    },
    {
     "name": "stderr",
     "output_type": "stream",
     "text": [
      "2024/05/29 05:10:49 WARNING mlflow.utils.autologging_utils: MLflow autologging encountered a warning: \"/opt/conda/lib/python3.8/site-packages/_distutils_hack/__init__.py:26: UserWarning: Setuptools is replacing distutils.\"\n",
      "2024/05/29 05:11:15 INFO mlflow.sklearn.utils: Logging the 5 best runs, no runs will be omitted.\n",
      "2024/05/29 05:11:16 WARNING mlflow.utils.autologging_utils: Encountered unexpected error during sklearn autologging: The following failures occurred while performing one or more logging operations: [MlflowException('Failed to perform one or more operations on the run with ID 7e3230a668094ecd80878dcb6a5f9f42. Failed operations: [RestException(\"INVALID_PARAMETER_VALUE: Response: {\\'error_code\\': \\'INVALID_PARAMETER_VALUE\\'}\")]')]\n"
     ]
    },
    {
     "name": "stdout",
     "output_type": "stream",
     "text": [
      "Los mejores parámetros de la busqueda: {'scaler': MinMaxScaler(), 'regressor__kernel': 'poly', 'regressor__gamma': 'scale', 'regressor__C': 23.0}\n",
      "El mejor modelo de la busqueda: Pipeline(steps=[('scaler', MinMaxScaler()),\n",
      "                ('regressor', SVR(C=23.0, kernel='poly'))])\n"
     ]
    }
   ],
   "source": [
    "# NOTA: para los parámetros del regresor se utiliza el prefijo regressor__ por convención\n",
    "# para indicar que ese parámetro es para el valor de la clave 'regressor'\n",
    "parameters = [\n",
    "    {\n",
    "        'scaler': [RobustScaler(), StandardScaler(), MinMaxScaler()],\n",
    "        # Parámetros del clasificador\n",
    "        'regressor__C': np.linspace(1, 100, 10),\n",
    "        'regressor__kernel': ['linear', 'rbf', 'poly'],\n",
    "        'regressor__gamma': ['scale', 'auto'],\n",
    "    },\n",
    "]\n",
    "\n",
    "tune_n_iters = 5\n",
    "tune_random = True\n",
    "\n",
    "mlflow.log_param(\"tune_n_iters\", tune_n_iters)\n",
    "mlflow.log_param(\"tune_random\", tune_random)\n",
    "\n",
    "best_model, best_params = search_params(\n",
    "    SVR, parameters, X_train_tune, y_train_tune, n_iter=tune_n_iters, random=tune_random,\n",
    "    )"
   ]
  },
  {
   "cell_type": "markdown",
   "metadata": {},
   "source": [
    "# Entrenar el modelo con todos los datos"
   ]
  },
  {
   "cell_type": "code",
   "execution_count": 17,
   "metadata": {},
   "outputs": [],
   "source": [
    "# best_model.fit(X_train, y_train)"
   ]
  },
  {
   "cell_type": "markdown",
   "metadata": {},
   "source": [
    "# Guardar el modelo\n"
   ]
  },
  {
   "cell_type": "code",
   "execution_count": 18,
   "metadata": {},
   "outputs": [],
   "source": [
    "import joblib\n",
    "\n",
    "model_filename = '../models/best_svr.pkl'"
   ]
  },
  {
   "cell_type": "code",
   "execution_count": 19,
   "metadata": {},
   "outputs": [
    {
     "name": "stdout",
     "output_type": "stream",
     "text": [
      "Modelo guardado en ../models/best_svr.pkl\n"
     ]
    }
   ],
   "source": [
    "joblib.dump(best_model, model_filename)\n",
    "print(f\"Modelo guardado en {model_filename}\")"
   ]
  },
  {
   "cell_type": "code",
   "execution_count": 20,
   "metadata": {},
   "outputs": [
    {
     "name": "stdout",
     "output_type": "stream",
     "text": [
      "Modelo cargado: Pipeline(steps=[('scaler', MinMaxScaler()),\n",
      "                ('regressor', SVR(C=23.0, kernel='poly'))])\n"
     ]
    }
   ],
   "source": [
    "# Cargar el modelo desde el archivo\n",
    "loaded_model = joblib.load(model_filename)\n",
    "print(f\"Modelo cargado: {loaded_model}\")"
   ]
  },
  {
   "cell_type": "code",
   "execution_count": 21,
   "metadata": {},
   "outputs": [],
   "source": [
    "from sklearn.metrics import mean_absolute_error as MAE\n",
    "from sklearn.metrics import mean_squared_error as MSE\n",
    "\n",
    "y_pred = loaded_model.predict(X_test)\n",
    "\n",
    "mae = MAE(y_test, y_pred)\n",
    "mse = MSE(y_test, y_pred)"
   ]
  },
  {
   "cell_type": "code",
   "execution_count": 22,
   "metadata": {},
   "outputs": [
    {
     "name": "stdout",
     "output_type": "stream",
     "text": [
      "MAE: 1.1599\n",
      "MSE: 2.5402\n"
     ]
    }
   ],
   "source": [
    "print(f\"MAE: {mae:,.4f}\")\n",
    "print(f\"MSE: {mse:,.4f}\")"
   ]
  },
  {
   "cell_type": "code",
   "execution_count": 23,
   "metadata": {},
   "outputs": [],
   "source": [
    "mlflow.log_metrics(\n",
    "    {\n",
    "        \"best_mse\": mse,\n",
    "        \"best_mae\": mae,\n",
    "    }\n",
    ")"
   ]
  },
  {
   "cell_type": "markdown",
   "metadata": {},
   "source": [
    "# Graficar `y_true` vs `y_pred`"
   ]
  },
  {
   "cell_type": "code",
   "execution_count": 24,
   "metadata": {},
   "outputs": [
    {
     "data": {
      "image/png": "[encoded data removed]",
      "text/plain": [
       "<Figure size 864x576 with 1 Axes>"
      ]
     },
     "metadata": {
      "needs_background": "light"
     },
     "output_type": "display_data"
    }
   ],
   "source": [
    "import matplotlib.pyplot as plt\n",
    "import seaborn as sns\n",
    "\n",
    "sns.set_style(\"darkgrid\")\n",
    "\n",
    "# Crear la figura y los ejes\n",
    "plt.figure(figsize=(12, 8))\n",
    "\n",
    "# Ploteo de valores reales vs predichos con seaborn\n",
    "sns.scatterplot(x=y_test, y=y_pred, color='salmon', s=50, label='Predicted Values')\n",
    "\n",
    "# Ploteo de la línea de identidad (y = x)\n",
    "max_val = max(max(y_test), max(y_pred))\n",
    "min_val = min(min(y_test), min(y_pred))\n",
    "plt.plot([min_val, max_val], [min_val, max_val], '--', color='black', label='Identity Line (y=x)')\n",
    "\n",
    "# Añadir recuadro con MAE y MSE\n",
    "textstr = f'MAE: {mae:.2f}\\nMSE: {mse:.2f}'\n",
    "# Propiedades del recuadro\n",
    "props = dict(boxstyle='round,pad=0.5', facecolor='white', edgecolor='black', alpha=0.5)\n",
    "# Ubicación del recuadro\n",
    "plt.text(0.02, 0.8, textstr, transform=plt.gca().transAxes, fontsize=12,\n",
    "         verticalalignment='top', bbox=props)\n",
    "\n",
    "# Añadir títulos y etiquetas\n",
    "plt.title('Actual vs Predicted Values', fontsize=14)\n",
    "plt.xlabel('Actual Values', fontsize=12)\n",
    "plt.ylabel('Predicted Values', fontsize=12)\n",
    "plt.legend()\n",
    "plt.grid(True)\n",
    "\n",
    "# Mostrar el gráfico\n",
    "plt.show()"
   ]
  },
  {
   "cell_type": "code",
   "execution_count": 26,
   "metadata": {},
   "outputs": [
    {
     "name": "stderr",
     "output_type": "stream",
     "text": [
      "Successfully registered model 'sk-learn-svr-model'.\n",
      "2024/05/29 05:11:49 INFO mlflow.store.model_registry.abstract_store: Waiting up to 300 seconds for model version to finish creation. Model name: sk-learn-svr-model, version 1\n",
      "Created version '1' of model 'sk-learn-svr-model'.\n"
     ]
    },
    {
     "data": {
      "text/plain": [
       "<mlflow.models.model.ModelInfo at 0x7f78747adc40>"
      ]
     },
     "execution_count": 26,
     "metadata": {},
     "output_type": "execute_result"
    }
   ],
   "source": [
    "from mlflow.models import infer_signature\n",
    "\n",
    "# Infer the model signature\n",
    "signature = infer_signature(X_test, y_pred)\n",
    "\n",
    "mlflow.sklearn.log_model(\n",
    "    sk_model=best_model,\n",
    "    artifact_path=\"best_svr\",\n",
    "    signature=signature,\n",
    "    registered_model_name=\"sk-learn-svr-model\",\n",
    ")"
   ]
  },
  {
   "cell_type": "code",
   "execution_count": 27,
   "metadata": {},
   "outputs": [],
   "source": [
    "mlflow.end_run()"
   ]
  }
 ],
 "metadata": {
  "kernelspec": {
   "display_name": "base",
   "language": "python",
   "name": "python3"
  },
  "language_info": {
   "codemirror_mode": {
    "name": "ipython",
    "version": 3
   },
   "file_extension": ".py",
   "mimetype": "text/x-python",
   "name": "python",
   "nbconvert_exporter": "python",
   "pygments_lexer": "ipython3",
   "version": "3.8.10"
  }
 },
 "nbformat": 4,
 "nbformat_minor": 2
}
