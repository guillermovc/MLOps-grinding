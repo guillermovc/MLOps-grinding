{
 "cells": [
  {
   "cell_type": "code",
   "execution_count": 1,
   "metadata": {},
   "outputs": [],
   "source": [
    "import requests\n",
    "import json"
   ]
  },
  {
   "cell_type": "markdown",
   "metadata": {},
   "source": [
    "Asumimos que el servidor está encendido, para ello, sigue las instrucciones en el readme, sección **¿Cómo correr inferencias utilizando el modelo?**"
   ]
  },
  {
   "cell_type": "code",
   "execution_count": 3,
   "metadata": {},
   "outputs": [
    {
     "name": "stdout",
     "output_type": "stream",
     "text": [
      "{\"predictions\": [87.32287575577851]}\n"
     ]
    }
   ],
   "source": [
    "# Define the data to be sent in the request\n",
    "data = {\n",
    "    \"instances\": [[75.761029, 39281.348296, 65.653747, 22.932414, 64.260113, \n",
    "    36.574719, 71.583049, 94.815049, 54.50695, 7.101110, 65.598165, 9.183127]]\n",
    "}\n",
    "\n",
    "# Convert the data to JSON format\n",
    "json_data = json.dumps(data)\n",
    "\n",
    "# Define the URL\n",
    "url = \"http://127.0.0.1:5000/invocations\"\n",
    "\n",
    "# Set the content type header\n",
    "headers = {\n",
    "    \"Content-Type\": \"application/json\"\n",
    "}\n",
    "\n",
    "# Send the HTTP POST request\n",
    "response = requests.post(url, headers=headers, data=json_data)\n",
    "\n",
    "# Print the response\n",
    "print(response.text)"
   ]
  },
  {
   "cell_type": "markdown",
   "metadata": {},
   "source": [
    "Valor predicho para la variable `presion`."
   ]
  }
 ],
 "metadata": {
  "kernelspec": {
   "display_name": "base",
   "language": "python",
   "name": "python3"
  },
  "language_info": {
   "codemirror_mode": {
    "name": "ipython",
    "version": 3
   },
   "file_extension": ".py",
   "mimetype": "text/x-python",
   "name": "python",
   "nbconvert_exporter": "python",
   "pygments_lexer": "ipython3",
   "version": "3.8.10"
  }
 },
 "nbformat": 4,
 "nbformat_minor": 2
}
